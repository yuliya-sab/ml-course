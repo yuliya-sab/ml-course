{
 "cells": [
  {
   "cell_type": "markdown",
   "metadata": {},
   "source": [
    "# №1 Семинар: Python тілінің негіздері\n",
    "\n",
    "**Курс:** Машиналық оқыту"
   ]
  },
  {
   "cell_type": "markdown",
   "metadata": {},
   "source": [
    "### Студент туралы ақпарат\n",
    "\n",
    "**Аты-жөні:** *<студент бұл жерге өз деректерін жазуы керек>*\n",
    "\n",
    "**Тобы:** *<студент бұл жерге өз деректерін жазуы керек>*\n",
    "\n",
    "### Бағалау саясаты және академиялық адалдық\n",
    "\n",
    "**Жұмыс үшін максималды баға: 6 балл.**\n",
    "\n",
    "| Тапсырма | Максималды балл | Сипаттамасы |\n",
    "|:---|:---|:---|\n",
    "| 1-тапсырма | **0.5 балл** | Дәрежеге шығару. |\n",
    "| 2-тапсырма | **0.5 балл** | Жолдарды бөлу. |\n",
    "| 3-тапсырма | **1.0 балл** | f-string арқылы пішімдеу. |\n",
    "| 4-тапсырма | **1.0 балл** | Кірістірілген тізімдермен жұмыс. |\n",
    "| 5-тапсырма | **1.0 балл** | Кірістірілген сөздіктермен жұмыс. |\n",
    "| 6-тапсырма | **1.0 балл** | Функция жазу. |\n",
    "| 7-тапсырма | **1.0 балл** | Функция жазу (логикалық шарттар). |\n",
    "\n",
    "**Академиялық адалдық саясаты:**\n",
    "\n",
    "Идеяларды бірлесіп талқылауға болады, бірақ **кодты өзіңіз жазуыңыз керек**. Бірдей деп танылған (плагиат) жұмыстар барлық қатысқан студенттер үшін қайта тапсыру мүмкіндігінсіз **0 баллмен** бағаланады."
   ]
  },
  {
   "cell_type": "markdown",
   "metadata": {},
   "source": [
    "---"
   ]
  },
  {
   "cell_type": "markdown",
   "metadata": {},
   "source": [
    "## Теориялық бөлім: Python тіліне толық кіріспе\n",
    "\n",
    "Бұл бөлімде біз Python тілінің негіздерін егжей-тегжейлі қарастырамыз. Бұл материал – курстың барлық келесі тапсырмаларын орындауға арналған негізіңіз. Әр тақырып түсіндірмелермен және код мысалдарымен берілген."
   ]
  },
  {
   "cell_type": "markdown",
   "metadata": {},
   "source": [
    "### Деректер типтері\n",
    "\n",
    "Бағдарламалауда біз әртүрлі ақпарат түрлерімен жұмыс істейміз: сандар, мәтіндер, деректер жинақтары. Python-да олардың әрқайсысы үшін кіріктірілген типтер бар.\n",
    "\n",
    "#### 1. Сандар (Numbers)\n",
    "Python математикамен жақсы жұмыс істейді. Негізгі сандар типтері - бүтін сандар (`int`) және қалқымалы нүктелі сандар (`float`)."
   ]
  },
  {
   "cell_type": "code",
   "execution_count": null,
   "metadata": {},
   "outputs": [
    {
     "data": {
      "text/plain": [
       "2"
      ]
     },
     "execution_count": 1,
     "metadata": {},
     "output_type": "execute_result"
    }
   ],
   "source": [
    "# Қосу\n",
    "1 + 1"
   ]
  },
  {
   "cell_type": "code",
   "execution_count": null,
   "metadata": {},
   "outputs": [
    {
     "data": {
      "text/plain": [
       "15"
      ]
     },
     "execution_count": 2,
     "metadata": {},
     "output_type": "execute_result"
    }
   ],
   "source": [
    "# Көбейту\n",
    "3 * 5"
   ]
  },
  {
   "cell_type": "code",
   "execution_count": null,
   "metadata": {},
   "outputs": [
    {
     "data": {
      "text/plain": [
       "5.0"
      ]
     },
     "execution_count": 3,
     "metadata": {},
     "output_type": "execute_result"
    }
   ],
   "source": [
    "# Бөлу әрқашан float қайтарады\n",
    "10 / 2"
   ]
  },
  {
   "cell_type": "code",
   "execution_count": null,
   "metadata": {},
   "outputs": [
    {
     "data": {
      "text/plain": [
       "16"
      ]
     },
     "execution_count": 4,
     "metadata": {},
     "output_type": "execute_result"
    }
   ],
   "source": [
    "# Дәрежеге шығару\n",
    "2 ** 4  # Екінің төртінші дәрежесі"
   ]
  },
  {
   "cell_type": "code",
   "execution_count": null,
   "metadata": {},
   "outputs": [
    {
     "data": {
      "text/plain": [
       "1"
      ]
     },
     "execution_count": 5,
     "metadata": {},
     "output_type": "execute_result"
    }
   ],
   "source": [
    "# Бөлуден қалдық\n",
    "5 % 2 # Жұптыққа тексеру үшін пайдалы"
   ]
  },
  {
   "cell_type": "code",
   "execution_count": null,
   "metadata": {},
   "outputs": [
    {
     "data": {
      "text/plain": [
       "50"
      ]
     },
     "execution_count": 6,
     "metadata": {},
     "output_type": "execute_result"
    }
   ],
   "source": [
    "# Операциялар реті сақталады\n",
    "(2 + 3) * (5 + 5)"
   ]
  },
  {
   "cell_type": "markdown",
   "metadata": {},
   "source": [
    "#### 2. Айнымалыларды меншіктеу\n",
    "Айнымалы — бұл мәнге сілтеме жасайтын атау. Оны деректер салынған \"қорапқа\" ілінетін жапсырма деп елестетіңіз."
   ]
  },
  {
   "cell_type": "code",
   "execution_count": null,
   "metadata": {},
   "outputs": [
    {
     "name": "stdout",
     "output_type": "stream",
     "text": [
      "5\n"
     ]
    }
   ],
   "source": [
    "# Меншіктеу үшін '=' белгісін қолданамыз\n",
    "x = 2\n",
    "y = 3\n",
    "z = x + y\n",
    "print(z)\n",
    "\n",
    "# Айнымалылардың атаулары мағыналы болуы мүмкін\n",
    "total_cost = 100"
   ]
  },
  {
   "cell_type": "markdown",
   "metadata": {},
   "source": [
    "#### 3. Жолдар (Strings)\n",
    "Жолдар мәтіндік ақпаратты сақтау үшін қолданылады.\n",
    "\n",
    "##### Индекстеу және кесінділер\n",
    "Сіз жолдың жеке символдарына немесе бөліктеріне қол жеткізе аласыз. **Маңызды:** Python-да индекстеу 0-ден басталады!\n",
    "\n",
    "Кесінді схемасы: `[start:stop:step]`\n",
    "- `start` - бастапқы индекс (қосылады).\n",
    "- `stop` - соңғы индекс (ҚОСЫЛМАЙДЫ).\n",
    "- `step` - қадам."
   ]
  },
  {
   "cell_type": "code",
   "execution_count": null,
   "metadata": {},
   "outputs": [
    {
     "name": "stdout",
     "output_type": "stream",
     "text": [
      "Бірінші символ: P\n",
      "Соңғы символ: n\n"
     ]
    }
   ],
   "source": [
    "s = 'Python'\n",
    "\n",
    "# Индекстеу\n",
    "print(f\"Бірінші символ: {s[0]}\")\n",
    "print(f\"Соңғы символ: {s[-1]}\") # Теріс индекс - соңынан бастап санау"
   ]
  },
  {
   "cell_type": "code",
   "execution_count": null,
   "metadata": {},
   "outputs": [
    {
     "name": "stdout",
     "output_type": "stream",
     "text": [
      "1-ден 4-ке дейінгі кесінді (4 қосылмайды): yth\n",
      "Басынан 3-ке дейінгі кесінді (3 қосылмайды): Pyt\n",
      "1-ден бастап 2 қадаммен кесінді: yhn\n",
      "Кері тәртіптегі жол: nohtyP\n"
     ]
    }
   ],
   "source": [
    "# Кесінділер\n",
    "print(f\"1-ден 4-ке дейінгі кесінді (4 қосылмайды): {s[1:4]}\")\n",
    "print(f\"Басынан 3-ке дейінгі кесінді (3 қосылмайды): {s[:3]}\")\n",
    "print(f\"1-ден бастап 2 қадаммен кесінді: {s[1::2]}\")\n",
    "print(f\"Кері тәртіптегі жол: {s[::-1]}\")"
   ]
  },
  {
   "cell_type": "markdown",
   "metadata": {},
   "source": [
    "##### Жол әдістері\n",
    "Әдістер — бұл жолдарды өзгерту немесе талдау үшін оларға қолдануға болатын кіріктірілген функциялар."
   ]
  },
  {
   "cell_type": "code",
   "execution_count": null,
   "metadata": {},
   "outputs": [
    {
     "name": "stdout",
     "output_type": "stream",
     "text": [
      "  бір жол  \n",
      "бір жол\n",
      "БІР ЖОЛ\n",
      "['бір', 'жол']\n",
      "басқа жол\n"
     ]
    }
   ],
   "source": [
    "my_string = \"  бір жол  \"\n",
    "print(my_string)\n",
    "\n",
    "print(my_string.strip()) # Шеттердегі бос орындарды жояды\n",
    "print(my_string.upper()) # Жоғарғы регистрге ауыстырады\n",
    "print(my_string.strip().split()) # Жолды бос орын арқылы сөздер тізіміне бөледі\n",
    "print(my_string.replace('бір', 'басқа')) # Жолдың ішіндегі жолды ауыстырады"
   ]
  },
  {
   "cell_type": "markdown",
   "metadata": {},
   "source": [
    "#### 4. Экранға шығару (Печать) және f-жолдар\n",
    "Ақпаратты экранға шығару үшін `print()` функциясы қолданылады.\n",
    "Ескі пішімдеу әдісін (`+` арқылы) және жаңасын (f-жолдар) салыстырайық."
   ]
  },
  {
   "cell_type": "code",
   "execution_count": null,
   "metadata": {},
   "outputs": [
    {
     "name": "stdout",
     "output_type": "stream",
     "text": [
      "Студент Қайрат 12 балл алды.\n",
      "Студент Қайрат 12 балл алды.\n"
     ]
    }
   ],
   "source": [
    "name = 'Қайрат'\n",
    "score = 12\n",
    "\n",
    "# Ескі әдіс (конкатенация): ыңғайсыз, сандарды жолға айналдыру керек\n",
    "print('Студент ' + name + ' ' + str(score) + ' балл алды.')\n",
    "\n",
    "# f-жол: таза, оқылатын және типтерді түрлендіруді қажет етпейді\n",
    "print(f'Студент {name} {score} балл алды.')"
   ]
  },
  {
   "cell_type": "markdown",
   "metadata": {},
   "source": [
    "#### 5. Тізімдер (Lists)\n",
    "Тізім — бұл реттелген және өзгертілетін нысандар жиынтығы. Ол әртүрлі типтегі элементтерді қамтуы мүмкін.\n",
    "Бұл Python-дағы ең маңызды деректер құрылымдарының бірі."
   ]
  },
  {
   "cell_type": "code",
   "execution_count": null,
   "metadata": {},
   "outputs": [
    {
     "name": "stdout",
     "output_type": "stream",
     "text": [
      "['NEW', 'b', 'c', 'd']\n"
     ]
    }
   ],
   "source": [
    "my_list = ['a', 'b', 'c']\n",
    "my_list.append('d') \n",
    "my_list[0] = 'NEW'\n",
    "print(my_list)"
   ]
  },
  {
   "cell_type": "markdown",
   "metadata": {},
   "source": [
    "#### 6. Сөздіктер (Dictionaries)\n",
    "Сөздіктер — `кілт:мән` жұптары түрінде деректерді сақтайтын реттелмеген жинақтар."
   ]
  },
  {
   "cell_type": "code",
   "execution_count": null,
   "metadata": {},
   "outputs": [
    {
     "name": "stdout",
     "output_type": "stream",
     "text": [
      "item1\n",
      "item3\n"
     ]
    }
   ],
   "source": [
    "d = {'key1':'item1', 'key2':'item2'}\n",
    "print(d['key1'])\n",
    "d['key3'] = 'item3'\n",
    "print(d['key3'])"
   ]
  },
  {
   "cell_type": "markdown",
   "metadata": {},
   "source": [
    "#### 7. Кірістірілген құрылымдармен жұмыс\n",
    "Көбінесе деректер тізімдер мен сөздіктердің күрделі комбинациялары болып келеді. Оларға қол жеткізу қадам-қадаммен жүзеге асырылады."
   ]
  },
  {
   "cell_type": "code",
   "execution_count": null,
   "metadata": {},
   "outputs": [
    {
     "name": "stdout",
     "output_type": "stream",
     "text": [
      "1-қадам: [4, 5, ['target']]\n",
      "2-қадам: ['target']\n",
      "Нәтиже: target\n"
     ]
    }
   ],
   "source": [
    "nest_list = [1, 2, 3, [4, 5, ['target']]]\n",
    "\n",
    "# 1-қадам: Кірістірілген тізімді аламыз\n",
    "step1 = nest_list[3]\n",
    "print(f\"1-қадам: {step1}\")\n",
    "\n",
    "# 2-қадам: Осы тізімнен тағы бір кірістірілген тізімді аламыз\n",
    "step2 = step1[2]\n",
    "print(f\"2-қадам: {step2}\")\n",
    "\n",
    "# 3-қадам: Соңғы элементті шығарамыз\n",
    "result = step2[0]\n",
    "print(f\"Нәтиже: {result}\")"
   ]
  },
  {
   "cell_type": "code",
   "execution_count": null,
   "metadata": {},
   "outputs": [
    {
     "name": "stdout",
     "output_type": "stream",
     "text": [
      "Нәтиже: hello\n"
     ]
    }
   ],
   "source": [
    "nest_dict = {'k1':[1,2,3,{'tricky':['oh','man','inception',{'target':[1,2,3,'hello']}]}]}"
   ]
  },
  {
   "cell_type": "markdown",
   "metadata": {},
   "source": [
    "### if, elif, else шартты операторлары\n",
    "Белгілі бір шарттың ақиқаттығына байланысты әртүрлі кодты орындауға мүмкіндік береді. Python шарттарды ретімен тексереді: алдымен `if`, содан кейін барлық `elif`, егер ешқайсысы орындалмаса, `else` блогы орындалады."
   ]
  },
  {
   "cell_type": "code",
   "execution_count": null,
   "metadata": {},
   "outputs": [
    {
     "name": "stdout",
     "output_type": "stream",
     "text": [
      "Орташа балл\n"
     ]
    }
   ],
   "source": [
    "score = 85\n",
    "\n",
    "if score >= 90:\n",
    "    print('Өте жақсы')\n",
    "elif score >= 80:\n",
    "    print('Орташа балл')\n",
    "else:\n",
    "    print('Талпыну керек')"
   ]
  },
  {
   "cell_type": "markdown",
   "metadata": {},
   "source": [
    "### for және while циклдері\n",
    "Циклдар бір код блогын бірнеше рет орындауға мүмкіндік береді.\n",
    "- `for`: жинақтағы (тізім, жол, кортеж) элементтерді аралау үшін өте ыңғайлы.\n",
    "- `while`: берілген шарт ақиқат болғанша орындалады."
   ]
  },
  {
   "cell_type": "code",
   "execution_count": null,
   "metadata": {},
   "outputs": [
    {
     "name": "stdout",
     "output_type": "stream",
     "text": [
      "1-тәсіл: a\n",
      "1-тәсіл: b\n",
      "1-тәсіл: c\n",
      "2-тәсіл: a\n",
      "2-тәсіл: b\n",
      "2-тәсіл: c\n"
     ]
    }
   ],
   "source": [
    "seq = ['a', 'b', 'c']\n",
    "\n",
    "# 1-тәсіл: Элементтер бойынша итерация. Қарапайым және оқуға оңай.\n",
    "for item in seq:\n",
    "    print(f'1-тәсіл: {item}')\n",
    "\n",
    "# 2-тәсіл: Индекстер бойынша итерация. Индекс те, элемент те қажет болғанда пайдалы.\n",
    "for i in range(len(seq)):\n",
    "    print(f'2-тәсіл: {seq[i]}')"
   ]
  },
  {
   "cell_type": "code",
   "execution_count": null,
   "metadata": {},
   "outputs": [
    {
     "name": "stdout",
     "output_type": "stream",
     "text": [
      "Жұп сан: 2\n",
      "Жұп сан: 4\n",
      "Жұп сан: 6\n"
     ]
    }
   ],
   "source": [
    "# Цикл ішіндегі шарт мысалы\n",
    "numbers = [1, 2, 3, 4, 5, 6]\n",
    "for num in numbers:\n",
    "    if num % 2 == 0:\n",
    "        print(f'Жұп сан: {num}')"
   ]
  },
  {
   "cell_type": "markdown",
   "metadata": {},
   "source": [
    "### Функциялар\n",
    "Функциялар — бұл бірнеше рет қолдануға болатын атаулы код блоктары. Олар кодты ұйымдастыруға көмектеседі. Негізгі сөздер: `def` анықтау үшін және `return` нәтижені қайтару үшін."
   ]
  },
  {
   "cell_type": "code",
   "execution_count": null,
   "metadata": {},
   "outputs": [
    {
     "name": "stdout",
     "output_type": "stream",
     "text": [
      "16\n"
     ]
    }
   ],
   "source": [
    "# 'def' арқылы функцияны анықтаймыз\n",
    "def square(x):\n",
    "    \"\"\"\n",
    "    Бұл docstring. Функцияның не істейтінін сипаттайды.\n",
    "    \"\"\"\n",
    "    # 'return' функцияның жұмыс нәтижесін қайтарады\n",
    "    return x**2\n",
    "\n",
    "# Функцияны шақыру\n",
    "result = square(4)\n",
    "print(result)"
   ]
  },
  {
   "cell_type": "markdown",
   "metadata": {},
   "source": [
    "### lambda-өрнектері, map және filter\n",
    "Бұл Python-дағы функционалды бағдарламалау құралдары.\n",
    "- **lambda:** Кішкентай, бір реттік, атаусыз функцияны жылдам жасауға мүмкіндік береді.\n",
    "- **map:** Функцияны тізбектің әрбір элементіне қолданады.\n",
    "- **filter:** Функция `True` қайтарған тізбек элементтерін іріктеп алады."
   ]
  },
  {
   "cell_type": "code",
   "execution_count": null,
   "metadata": {},
   "outputs": [
    {
     "name": "stdout",
     "output_type": "stream",
     "text": [
      "map нәтижесі: [2, 4, 6, 8, 10, 12]\n",
      "filter нәтижесі: [4, 5, 6]\n"
     ]
    }
   ],
   "source": [
    "seq = [1, 2, 3, 4, 5, 6]\n",
    "\n",
    "# map және lambda-ны қолданып, әр элементті екіге көбейтеміз\n",
    "doubled = list(map(lambda var: var * 2, seq))\n",
    "print(f'map нәтижесі: {doubled}')\n",
    "\n",
    "# filter және lambda-ны қолданып, 3-тен үлкен сандарды қалдырамыз\n",
    "filtered = list(filter(lambda item: item > 3, seq))\n",
    "print(f'filter нәтижесі: {filtered}')"
   ]
  },
  {
   "cell_type": "markdown",
   "metadata": {},
   "source": [
    "---"
   ]
  },
  {
   "cell_type": "markdown",
   "metadata": {},
   "source": [
    "## Тәжірибелік тапсырмалар"
   ]
  },
  {
   "cell_type": "markdown",
   "metadata": {},
   "source": [
    "**7 санын 4-дәрежеге шығарыңыз**"
   ]
  },
  {
   "cell_type": "code",
   "execution_count": null,
   "metadata": {},
   "outputs": [],
   "source": [
    "# осы ұяшыққа кодыңды жаз"
   ]
  },
  {
   "cell_type": "markdown",
   "metadata": {},
   "source": [
    "**Төмендегі жолды бөліңіз:**\n",
    "\n",
    "    s = \"Hi there Sam!\"\n",
    "    \n",
    "**жеке сөздерден тұратын тізімге.**"
   ]
  },
  {
   "cell_type": "code",
   "execution_count": null,
   "metadata": {},
   "outputs": [],
   "source": [
    "s = 'Hi there Sam!'\n",
    "# осы ұяшыққа кодыңды жаз"
   ]
  },
  {
   "cell_type": "markdown",
   "metadata": {},
   "source": [
    "**Төмендегі айнымалыларды қолданып:**\n",
    "\n",
    "    planet = \"Жер\"\n",
    "    diameter = 12742\n",
    "\n",
    "**Төмендегі жолды `f-string` көмегімен басып шығарыңыз:**\n",
    "\n",
    "    Жер планетасының диаметрі 12742 километрді құрайды."
   ]
  },
  {
   "cell_type": "code",
   "execution_count": null,
   "metadata": {},
   "outputs": [],
   "source": [
    "planet = \"Жер\"\n",
    "diameter = 12742\n",
    "# осы ұяшыққа кодыңды жаз"
   ]
  },
  {
   "cell_type": "markdown",
   "metadata": {},
   "source": [
    "**Индекстеуді пайдаланып, кірістірілген тізімнен \"hello\" сөзін шығарыңыз:**"
   ]
  },
  {
   "cell_type": "code",
   "execution_count": null,
   "metadata": {},
   "outputs": [],
   "source": [
    "lst = [1,2,[3,4],[5,[100,200,['hello']],23,11],1,7]\n",
    "# осы ұяшыққа кодыңды жаз"
   ]
  },
  {
   "cell_type": "markdown",
   "metadata": {},
   "source": [
    "**Кірістірілген сөздіктен \"hello\" сөзін шығарыңыз.**"
   ]
  },
  {
   "cell_type": "code",
   "execution_count": null,
   "metadata": {},
   "outputs": [],
   "source": [
    "d = {'k1':[1,2,3,{'tricky':['oh','man','inception',{'target':[1,2,3,'hello']}]}]}"
   ]
  },
  {
   "cell_type": "markdown",
   "metadata": {},
   "source": [
    "**Кортеждер (tuple) мен тізімдер (list) арасындағы негізгі айырмашылық неде?**\n",
    "\n",
    "*<Жауабыңызды осы жерге жазыңыз>*"
   ]
  },
  {
   "cell_type": "markdown",
   "metadata": {},
   "source": [
    "**Электрондық пошта мекенжайынан доменді шығарып алатын функция жазыңыз:**\n",
    "\n",
    "    user@domain.com\n",
    "    \n",
    "**Мысалы, \"user@domain.com\" мекенжайы үшін функция domain.com қайтаруы керек**"
   ]
  },
  {
   "cell_type": "code",
   "execution_count": null,
   "metadata": {
    "collapsed": true,
    "jupyter": {
     "outputs_hidden": true
    }
   },
   "outputs": [],
   "source": [
    "def domainGet(email):\n",
    "    return email.split('@')[1]\n",
    "\n",
    "domainGet('user@domain.com')"
   ]
  },
  {
   "cell_type": "markdown",
   "metadata": {},
   "source": [
    "**Жолды қабылдап, егер жолда 'dog' сөзі болса, True мәнін қайтаратын функция жазыңыз. Әртүрлі регистрді ескеріңіз.**"
   ]
  },
  {
   "cell_type": "code",
   "execution_count": null,
   "metadata": {
    "collapsed": true,
    "jupyter": {
     "outputs_hidden": true
    }
   },
   "outputs": [],
   "source": [
    "def findDog(st):\n",
    "    return 'dog' in st.lower().split()\n",
    "\n",
    "findDog('Is there a dog here?')"
   ]
  }
 ],
 "metadata": {
  "kernelspec": {
   "display_name": "Python [conda env:base] *",
   "language": "python",
   "name": "conda-base-py"
  },
  "language_info": {
   "codemirror_mode": {
    "name": "ipython",
    "version": 3
   },
   "file_extension": ".py",
   "mimetype": "text/x-python",
   "name": "python",
   "nbconvert_exporter": "python",
   "pygments_lexer": "ipython3",
   "version": "3.13.5"
  }
 },
 "nbformat": 4,
 "nbformat_minor": 4
}
