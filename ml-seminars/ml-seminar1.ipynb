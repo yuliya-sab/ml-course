{
 "cells": [
  {
   "cell_type": "markdown",
   "metadata": {},
   "source": [
    "# Семинар №1: Основы языка Python\n",
    "\n",
    "**Курс:** Машинное обучение"
   ]
  },
  {
   "cell_type": "markdown",
   "metadata": {},
   "source": [
    "### Информация о студенте\n",
    "\n",
    "**ФИО:** *<здесь студент должен вписать свои данные>*\n",
    "\n",
    "**Группа:** *<здесь студент должен вписать свои данные>*\n",
    "\n",
    "### Политика выставления оценок и академическая честность\n",
    "\n",
    "**Максимальная оценка за работу: 6 баллов.**\n",
    "\n",
    "| Задание | Максимальный балл | Описание |\n",
    "|:---|:---|:---|\n",
    "| Задание 1 | **0.5 балла** | Возведение в степень. |\n",
    "| Задание 2 | **0.5 балла** | Разбиение строк. |\n",
    "| Задание 3 | **1.0 балл** | Форматирование с f-string. |\n",
    "| Задание 4 | **1.0 балл** | Работа с вложенными списками. |\n",
    "| Задание 5 | **1.0 балл** | Работа с вложенными словарями. |\n",
    "| Задание 6 | **1.0 балл** | Написание функции. |\n",
    "| Задание 7 | **1.0 балл** | Написание функции (логические условия). |\n",
    "\n",
    "**Политика академической честности:**\n",
    "\n",
    "Совместное обсуждение идей, но **код вы должны писать самостоятельно**. Работы, которые будут признаны идентичными (плагиатом), будут оценены в **0 баллов** для всех вовлеченных студентов без возможности пересдачи."
   ]
  },
  {
   "cell_type": "markdown",
   "metadata": {},
   "source": [
    "---"
   ]
  },
  {
   "cell_type": "markdown",
   "metadata": {},
   "source": [
    "## Теоретическая часть: Подробное введение в Python\n",
    "\n",
    "В этом разделе мы подробно разберем основы языка Python. Этот материал — ваша база для выполнения всех последующих заданий курса. Каждая тема сопровождается объяснениями и примерами кода."
   ]
  },
  {
   "cell_type": "markdown",
   "metadata": {},
   "source": [
    "### Типы данных\n",
    "\n",
    "В программировании мы работаем с различными видами информации: числами, текстом, коллекциями данных. Python имеет встроенные типы для каждого из них.\n",
    "\n",
    "#### 1. Числа (Numbers)\n",
    "Python отлично справляется с математикой. Основные типы чисел - это целые (`int`) и числа с плавающей точкой (`float`)."
   ]
  },
  {
   "cell_type": "code",
   "execution_count": null,
   "metadata": {},
   "outputs": [
    {
     "data": {
      "text/plain": [
       "2"
      ]
     },
     "execution_count": 1,
     "metadata": {},
     "output_type": "execute_result"
    }
   ],
   "source": [
    "# Сложение\n",
    "1 + 1"
   ]
  },
  {
   "cell_type": "code",
   "execution_count": null,
   "metadata": {},
   "outputs": [
    {
     "data": {
      "text/plain": [
       "15"
      ]
     },
     "execution_count": 2,
     "metadata": {},
     "output_type": "execute_result"
    }
   ],
   "source": [
    "# Умножение\n",
    "3 * 5"
   ]
  },
  {
   "cell_type": "code",
   "execution_count": null,
   "metadata": {},
   "outputs": [
    {
     "data": {
      "text/plain": [
       "5.0"
      ]
     },
     "execution_count": 3,
     "metadata": {},
     "output_type": "execute_result"
    }
   ],
   "source": [
    "# Деление всегда возвращает float\n",
    "10 / 2"
   ]
  },
  {
   "cell_type": "code",
   "execution_count": null,
   "metadata": {},
   "outputs": [
    {
     "data": {
      "text/plain": [
       "16"
      ]
     },
     "execution_count": 4,
     "metadata": {},
     "output_type": "execute_result"
    }
   ],
   "source": [
    "# Возведение в степень\n",
    "2 ** 4  # Два в четвертой степени"
   ]
  },
  {
   "cell_type": "code",
   "execution_count": null,
   "metadata": {},
   "outputs": [
    {
     "data": {
      "text/plain": [
       "1"
      ]
     },
     "execution_count": 5,
     "metadata": {},
     "output_type": "execute_result"
    }
   ],
   "source": [
    "# Остаток от деления\n",
    "5 % 2 # Полезно для проверки на четность"
   ]
  },
  {
   "cell_type": "code",
   "execution_count": null,
   "metadata": {},
   "outputs": [
    {
     "data": {
      "text/plain": [
       "50"
      ]
     },
     "execution_count": 6,
     "metadata": {},
     "output_type": "execute_result"
    }
   ],
   "source": [
    "# Порядок операций соблюдается\n",
    "(2 + 3) * (5 + 5)"
   ]
  },
  {
   "cell_type": "markdown",
   "metadata": {},
   "source": [
    "#### 2. Присвоение переменных\n",
    "Переменная — это имя, которое ссылается на значение. Представьте, что это ярлык, который вы вешаете на \"коробку\" с данными."
   ]
  },
  {
   "cell_type": "code",
   "execution_count": null,
   "metadata": {},
   "outputs": [
    {
     "name": "stdout",
     "output_type": "stream",
     "text": [
      "5\n"
     ]
    }
   ],
   "source": [
    "# Используем знак '=' для присвоения\n",
    "x = 2\n",
    "y = 3\n",
    "z = x + y\n",
    "print(z)\n",
    "\n",
    "# Названия переменных могут быть осмысленными\n",
    "total_cost = 100"
   ]
  },
  {
   "cell_type": "markdown",
   "metadata": {},
   "source": [
    "#### 3. Строки (Strings)\n",
    "Строки используются для хранения текстовой информации. \n",
    "\n",
    "##### Индексация и срезы\n",
    "Вы можете получить доступ к отдельным символам или частям строки. **Важно:** индексация в Python начинается с 0!\n",
    "\n",
    "Схема среза: `[start:stop:step]`\n",
    "- `start` - начальный индекс (включается).\n",
    "- `stop` - конечный индекс (НЕ включается).\n",
    "- `step` - шаг."
   ]
  },
  {
   "cell_type": "code",
   "execution_count": null,
   "metadata": {},
   "outputs": [
    {
     "name": "stdout",
     "output_type": "stream",
     "text": [
      "Первый символ: P\n",
      "Последний символ: n\n"
     ]
    }
   ],
   "source": [
    "s = 'Python'\n",
    "\n",
    "# Индексация\n",
    "print(f\"Первый символ: {s[0]}\")\n",
    "print(f\"Последний символ: {s[-1]}\") # Отрицательный индекс - отсчет с конца"
   ]
  },
  {
   "cell_type": "code",
   "execution_count": null,
   "metadata": {},
   "outputs": [
    {
     "name": "stdout",
     "output_type": "stream",
     "text": [
      "Срез с 1 по 4 (не вкл.): yth\n",
      "Срез с начала до 3 (не вкл.): Pyt\n",
      "Срез с 1 до конца с шагом 2: yhn\n",
      "Строка в обратном порядке: nohtyP\n"
     ]
    }
   ],
   "source": [
    "# Срезы\n",
    "print(f\"Срез с 1 по 4 (не вкл.): {s[1:4]}\")\n",
    "print(f\"Срез с начала до 3 (не вкл.): {s[:3]}\")\n",
    "print(f\"Срез с 1 до конца с шагом 2: {s[1::2]}\")\n",
    "print(f\"Строка в обратном порядке: {s[::-1]}\")"
   ]
  },
  {
   "cell_type": "markdown",
   "metadata": {},
   "source": [
    "##### Методы строк\n",
    "Методы — это встроенные функции, которые можно применять к строкам для их изменения или анализа."
   ]
  },
  {
   "cell_type": "code",
   "execution_count": null,
   "metadata": {},
   "outputs": [
    {
     "name": "stdout",
     "output_type": "stream",
     "text": [
      "  некоторая строка  \n",
      "некоторая строка\n",
      "НЕКОТОРАЯ СТРОКА\n",
      "['некоторая', 'строка']\n",
      "другая строка\n"
     ]
    }
   ],
   "source": [
    "my_string = \"  некоторая строка  \"\n",
    "print(my_string)\n",
    "\n",
    "print(my_string.strip()) # Удаляет пробелы по краям\n",
    "print(my_string.upper()) # Переводит в верхний регистр\n",
    "print(my_string.strip().split()) # Разбивает строку по пробелам на список слов\n",
    "print(my_string.replace('некоторая', 'другая')) # Заменяет подстроку"
   ]
  },
  {
   "cell_type": "markdown",
   "metadata": {},
   "source": [
    "#### 4. Печать (вывод на экран) и f-строки\n",
    "Для вывода информации на экран используется функция `print()`.\n",
    "Сравним старый способ форматирования (через `+`) и новый (f-строки)."
   ]
  },
  {
   "cell_type": "code",
   "execution_count": null,
   "metadata": {},
   "outputs": [
    {
     "name": "stdout",
     "output_type": "stream",
     "text": [
      "Студент Влад получил 12 баллов.\n",
      "Студент Влад получил 12 баллов.\n"
     ]
    }
   ],
   "source": [
    "name = 'Влад'\n",
    "score = 12\n",
    "\n",
    "# Старый способ (конкатенация): неудобно, нужно преобразовывать числа в строки\n",
    "print('Студент ' + name + ' получил ' + str(score) + ' баллов.')\n",
    "\n",
    "# f-string: чисто, читаемо и не требует преобразования типов\n",
    "print(f'Студент {name} получил {score} баллов.')"
   ]
  },
  {
   "cell_type": "markdown",
   "metadata": {},
   "source": [
    "#### 5. Списки (Lists)\n",
    "Список — это упорядоченная и изменяемая коллекция объектов. Он может содержать элементы разных типов.\n",
    "Это одна из самых важных структур данных в Python."
   ]
  },
  {
   "cell_type": "code",
   "execution_count": null,
   "metadata": {},
   "outputs": [
    {
     "name": "stdout",
     "output_type": "stream",
     "text": [
      "['NEW', 'b', 'c', 'd']\n"
     ]
    }
   ],
   "source": [
    "my_list = ['a', 'b', 'c']\n",
    "my_list.append('d') \n",
    "my_list[0] = 'NEW'\n",
    "print(my_list)"
   ]
  },
  {
   "cell_type": "markdown",
   "metadata": {},
   "source": [
    "#### 6. Словари (Dictionaries)\n",
    "Словари — это неупорядоченные коллекции, которые хранят данные в виде пар `ключ:значение`."
   ]
  },
  {
   "cell_type": "code",
   "execution_count": null,
   "metadata": {},
   "outputs": [
    {
     "name": "stdout",
     "output_type": "stream",
     "text": [
      "item1\n",
      "item3\n"
     ]
    }
   ],
   "source": [
    "d = {'key1':'item1', 'key2':'item2'}\n",
    "print(d['key1'])\n",
    "d['key3'] = 'item3'\n",
    "print(d['key3'])"
   ]
  },
  {
   "cell_type": "markdown",
   "metadata": {},
   "source": [
    "#### 7. Работа с вложенными структурами\n",
    "Часто данные представляют собой сложные комбинации списков и словарей. Доступ к ним осуществляется пошагово."
   ]
  },
  {
   "cell_type": "code",
   "execution_count": null,
   "metadata": {},
   "outputs": [
    {
     "name": "stdout",
     "output_type": "stream",
     "text": [
      "Шаг 1: [4, 5, ['target']]\n",
      "Шаг 2: ['target']\n",
      "Результат: target\n"
     ]
    }
   ],
   "source": [
    "nest_list = [1, 2, 3, [4, 5, ['target']]]\n",
    "\n",
    "# Шаг 1: Получаем вложенный список\n",
    "step1 = nest_list[3]\n",
    "print(f\"Шаг 1: {step1}\")\n",
    "\n",
    "# Шаг 2: Из этого списка получаем еще один вложенный список\n",
    "step2 = step1[2]\n",
    "print(f\"Шаг 2: {step2}\")\n",
    "\n",
    "# Шаг 3: Извлекаем финальный элемент\n",
    "result = step2[0]\n",
    "print(f\"Результат: {result}\")"
   ]
  },
  {
   "cell_type": "code",
   "execution_count": null,
   "metadata": {},
   "outputs": [
    {
     "name": "stdout",
     "output_type": "stream",
     "text": [
      "Результат: hello\n"
     ]
    }
   ],
   "source": [
    "nest_dict = {'k1':[1,2,3,{'tricky':['oh','man','inception',{'target':[1,2,3,'hello']}]}]}"
   ]
  },
  {
   "cell_type": "markdown",
   "metadata": {},
   "source": [
    "### Условные операторы if, elif, else\n",
    "Позволяют выполнять разный код в зависимости от истинности какого-либо условия. Python проверяет условия по порядку: сначала `if`, затем все `elif`, и если ни одно не выполнилось, выполняется блок `else`."
   ]
  },
  {
   "cell_type": "code",
   "execution_count": null,
   "metadata": {},
   "outputs": [
    {
     "name": "stdout",
     "output_type": "stream",
     "text": [
      "Средний балл\n"
     ]
    }
   ],
   "source": [
    "score = 85\n",
    "\n",
    "if score >= 90:\n",
    "    print('Отлично')\n",
    "elif score >= 80:\n",
    "    print('Средний балл')\n",
    "else:\n",
    "    print('Нужно подучиться')"
   ]
  },
  {
   "cell_type": "markdown",
   "metadata": {},
   "source": [
    "### Циклы for и while\n",
    "Циклы позволяют выполнять один и тот же блок кода многократно.\n",
    "- `for`: идеален для перебора элементов в коллекции (список, строка, кортеж).\n",
    "- `while`: выполняется, пока заданное условие истинно."
   ]
  },
  {
   "cell_type": "code",
   "execution_count": null,
   "metadata": {},
   "outputs": [
    {
     "name": "stdout",
     "output_type": "stream",
     "text": [
      "Способ 1: a\n",
      "Способ 1: b\n",
      "Способ 1: c\n",
      "Способ 2: a\n",
      "Способ 2: b\n",
      "Способ 2: c\n"
     ]
    }
   ],
   "source": [
    "seq = ['a', 'b', 'c']\n",
    "\n",
    "# Способ 1: Итерация по элементам. Просто и читаемо.\n",
    "for item in seq:\n",
    "    print(f'Способ 1: {item}')\n",
    "\n",
    "# Способ 2: Итерация по индексам. Полезно, когда нужен и индекс, и элемент.\n",
    "for i in range(len(seq)):\n",
    "    print(f'Способ 2: {seq[i]}')"
   ]
  },
  {
   "cell_type": "code",
   "execution_count": null,
   "metadata": {},
   "outputs": [
    {
     "name": "stdout",
     "output_type": "stream",
     "text": [
      "Четное число: 2\n",
      "Четное число: 4\n",
      "Четное число: 6\n"
     ]
    }
   ],
   "source": [
    "# Пример цикла с условием внутри\n",
    "numbers = [1, 2, 3, 4, 5, 6]\n",
    "for num in numbers:\n",
    "    if num % 2 == 0:\n",
    "        print(f'Четное число: {num}')"
   ]
  },
  {
   "cell_type": "markdown",
   "metadata": {},
   "source": [
    "### Функции\n",
    "Функции — это именованные, многократно используемые блоки кода. Они помогают сделать код более организованным. Ключевые слова: `def` для определения и `return` для возврата результата."
   ]
  },
  {
   "cell_type": "code",
   "execution_count": null,
   "metadata": {},
   "outputs": [
    {
     "name": "stdout",
     "output_type": "stream",
     "text": [
      "16\n"
     ]
    }
   ],
   "source": [
    "def square(x):\n",
    "    \"\"\"\n",
    "    Это docstring. Он описывает, что делает функция.\n",
    "    \"\"\"\n",
    "    return x**2\n",
    "\n",
    "result = square(4)\n",
    "print(result)"
   ]
  },
  {
   "cell_type": "markdown",
   "metadata": {},
   "source": [
    "### lambda-выражения, map и filter\n",
    "Это инструменты функционального программирования в Python.\n",
    "- **lambda:** Создает маленькую анонимную функцию на лету.\n",
    "- **map:** Применяет функцию к каждому элементу последовательности.\n",
    "- **filter:** Отбирает элементы из последовательности, для которых функция возвращает `True`."
   ]
  },
  {
   "cell_type": "code",
   "execution_count": null,
   "metadata": {},
   "outputs": [
    {
     "name": "stdout",
     "output_type": "stream",
     "text": [
      "Результат map: [2, 4, 6, 8, 10, 12]\n",
      "Результат filter: [4, 5, 6]\n"
     ]
    }
   ],
   "source": [
    "seq = [1, 2, 3, 4, 5, 6]\n",
    "\n",
    "# Используем map с lambda-функцией, чтобы удвоить каждый элемент\n",
    "doubled = list(map(lambda var: var * 2, seq))\n",
    "print(f'Результат map: {doubled}')\n",
    "\n",
    "# Используем filter с lambda, чтобы оставить числа > 3\n",
    "filtered = list(filter(lambda item: item > 3, seq))\n",
    "print(f'Результат filter: {filtered}')"
   ]
  },
  {
   "cell_type": "markdown",
   "metadata": {},
   "source": [
    "---"
   ]
  },
  {
   "cell_type": "markdown",
   "metadata": {},
   "source": [
    "## Практические задания"
   ]
  },
  {
   "cell_type": "markdown",
   "metadata": {},
   "source": [
    "**Возведите 7 в степень 4**"
   ]
  },
  {
   "cell_type": "code",
   "execution_count": null,
   "metadata": {},
   "outputs": [],
   "source": [
    "# напишите Ваш код в этой ячейке"
   ]
  },
  {
   "cell_type": "markdown",
   "metadata": {},
   "source": [
    "**Разбейте строку ниже:**\n",
    "\n",
    "    s = \"Hi there Sam!\"\n",
    "    \n",
    "**на список из отдельных слов.**"
   ]
  },
  {
   "cell_type": "code",
   "execution_count": null,
   "metadata": {},
   "outputs": [],
   "source": [
    "s = 'Hi there Sam!'\n",
    "# напишите Ваш код в этой ячейке"
   ]
  },
  {
   "cell_type": "markdown",
   "metadata": {},
   "source": [
    "**Используя переменные ниже:**\n",
    "\n",
    "    planet = \"Земля\"\n",
    "    diameter = 12742\n",
    "\n",
    "**Распечатайте строку ниже с помощью f-string:**\n",
    "\n",
    "    Диаметр планеты Земля равен 12742 километров."
   ]
  },
  {
   "cell_type": "code",
   "execution_count": null,
   "metadata": {},
   "outputs": [],
   "source": [
    "planet = \"Земля\"\n",
    "diameter = 12742\n",
    "# напишите Ваш код в этой ячейке"
   ]
  },
  {
   "cell_type": "markdown",
   "metadata": {},
   "source": [
    "**Извлеките слово \"hello\" из вложенного списка, используя индексирование:**"
   ]
  },
  {
   "cell_type": "code",
   "execution_count": null,
   "metadata": {},
   "outputs": [],
   "source": [
    "lst = [1,2,[3,4],[5,[100,200,['hello']],23,11],1,7]\n",
    "# напишите Ваш код в этой ячейке"
   ]
  },
  {
   "cell_type": "markdown",
   "metadata": {},
   "source": [
    "**Извлеките слово \"hello\" из вложенного словаря.**"
   ]
  },
  {
   "cell_type": "code",
   "execution_count": null,
   "metadata": {},
   "outputs": [],
   "source": [
    "d = {'k1':[1,2,3,{'tricky':['oh','man','inception',{'target':[1,2,3,'hello']}]}]}"
   ]
  },
  {
   "cell_type": "markdown",
   "metadata": {},
   "source": [
    "**В чём основное отличие между кортежами (tuple) и списками (list)?**\n",
    "\n",
    "*<Напишите ваш ответ здесь>*"
   ]
  },
  {
   "cell_type": "markdown",
   "metadata": {},
   "source": [
    "**Напишите функцию, которая извлекает домен из электронного адреса:**\n",
    "\n",
    "    user@domain.com\n",
    "    \n",
    "**Например, для адреса \"user@domain.com\" функция должна вернуть domain.com**"
   ]
  },
  {
   "cell_type": "code",
   "execution_count": null,
   "metadata": {
    "collapsed": true,
    "jupyter": {
     "outputs_hidden": true
    }
   },
   "outputs": [],
   "source": [
    "def domainGet(email):\n",
    "    return email.split('@')[1]\n",
    "\n",
    "domainGet('user@domain.com')"
   ]
  },
  {
   "cell_type": "markdown",
   "metadata": {},
   "source": [
    "**Напишите функцию, которая принимает на вход строку и возвращает True, если в строке содержится слово 'dog'. Учитывайте разный регистр.**"
   ]
  },
  {
   "cell_type": "code",
   "execution_count": null,
   "metadata": {
    "collapsed": true,
    "jupyter": {
     "outputs_hidden": true
    }
   },
   "outputs": [],
   "source": [
    "def findDog(st):\n",
    "    return 'dog' in st.lower().split()\n",
    "\n",
    "findDog('Is there a dog here?')"
   ]
  }
 ],
 "metadata": {
  "kernelspec": {
   "display_name": "Python [conda env:base] *",
   "language": "python",
   "name": "conda-base-py"
  },
  "language_info": {
   "codemirror_mode": {
    "name": "ipython",
    "version": 3
   },
   "file_extension": ".py",
   "mimetype": "text/x-python",
   "name": "python",
   "nbconvert_exporter": "python",
   "pygments_lexer": "ipython3",
   "version": "3.13.5"
  }
 },
 "nbformat": 4,
 "nbformat_minor": 4
}
